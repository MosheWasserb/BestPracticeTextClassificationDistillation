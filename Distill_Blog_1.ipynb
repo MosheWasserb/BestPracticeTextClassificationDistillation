{
  "nbformat": 4,
  "nbformat_minor": 0,
  "metadata": {
    "colab": {
      "name": "Distill Blog #1.ipynb",
      "provenance": [],
      "collapsed_sections": [],
      "authorship_tag": "ABX9TyMQ0m+aBsvcgwAL7Z3jIU64",
      "include_colab_link": true
    },
    "kernelspec": {
      "display_name": "Python 3",
      "name": "python3"
    },
    "language_info": {
      "name": "python"
    },
    "widgets": {
      "application/vnd.jupyter.widget-state+json": {
        "7a3dfb5bbf8542a08ddae434dfcf869a": {
          "model_module": "@jupyter-widgets/controls",
          "model_name": "HBoxModel",
          "state": {
            "_view_name": "HBoxView",
            "_dom_classes": [],
            "_model_name": "HBoxModel",
            "_view_module": "@jupyter-widgets/controls",
            "_model_module_version": "1.5.0",
            "_view_count": null,
            "_view_module_version": "1.5.0",
            "box_style": "",
            "layout": "IPY_MODEL_be1c56d38102467692625373444eafa1",
            "_model_module": "@jupyter-widgets/controls",
            "children": [
              "IPY_MODEL_1e0245db3b1641c1a7ca89347d639975",
              "IPY_MODEL_5de8f3514b544d70a83a0bbc39e2674b"
            ]
          }
        },
        "be1c56d38102467692625373444eafa1": {
          "model_module": "@jupyter-widgets/base",
          "model_name": "LayoutModel",
          "state": {
            "_view_name": "LayoutView",
            "grid_template_rows": null,
            "right": null,
            "justify_content": null,
            "_view_module": "@jupyter-widgets/base",
            "overflow": null,
            "_model_module_version": "1.2.0",
            "_view_count": null,
            "flex_flow": null,
            "width": null,
            "min_width": null,
            "border": null,
            "align_items": null,
            "bottom": null,
            "_model_module": "@jupyter-widgets/base",
            "top": null,
            "grid_column": null,
            "overflow_y": null,
            "overflow_x": null,
            "grid_auto_flow": null,
            "grid_area": null,
            "grid_template_columns": null,
            "flex": null,
            "_model_name": "LayoutModel",
            "justify_items": null,
            "grid_row": null,
            "max_height": null,
            "align_content": null,
            "visibility": null,
            "align_self": null,
            "height": null,
            "min_height": null,
            "padding": null,
            "grid_auto_rows": null,
            "grid_gap": null,
            "max_width": null,
            "order": null,
            "_view_module_version": "1.2.0",
            "grid_template_areas": null,
            "object_position": null,
            "object_fit": null,
            "grid_auto_columns": null,
            "margin": null,
            "display": null,
            "left": null
          }
        },
        "1e0245db3b1641c1a7ca89347d639975": {
          "model_module": "@jupyter-widgets/controls",
          "model_name": "FloatProgressModel",
          "state": {
            "_view_name": "ProgressView",
            "style": "IPY_MODEL_1d17da17876d464cad7e1db16c83bac0",
            "_dom_classes": [],
            "description": "Downloading: 100%",
            "_model_name": "FloatProgressModel",
            "bar_style": "success",
            "max": 481,
            "_view_module": "@jupyter-widgets/controls",
            "_model_module_version": "1.5.0",
            "value": 481,
            "_view_count": null,
            "_view_module_version": "1.5.0",
            "orientation": "horizontal",
            "min": 0,
            "description_tooltip": null,
            "_model_module": "@jupyter-widgets/controls",
            "layout": "IPY_MODEL_48cfc2e9753b40bd9079481f1f207d4e"
          }
        },
        "5de8f3514b544d70a83a0bbc39e2674b": {
          "model_module": "@jupyter-widgets/controls",
          "model_name": "HTMLModel",
          "state": {
            "_view_name": "HTMLView",
            "style": "IPY_MODEL_596e807946d14818a6d1f13e3e827ad5",
            "_dom_classes": [],
            "description": "",
            "_model_name": "HTMLModel",
            "placeholder": "​",
            "_view_module": "@jupyter-widgets/controls",
            "_model_module_version": "1.5.0",
            "value": " 481/481 [00:00&lt;00:00, 8.58kB/s]",
            "_view_count": null,
            "_view_module_version": "1.5.0",
            "description_tooltip": null,
            "_model_module": "@jupyter-widgets/controls",
            "layout": "IPY_MODEL_e69b7289a9b741a7a7762f446dd871dd"
          }
        },
        "1d17da17876d464cad7e1db16c83bac0": {
          "model_module": "@jupyter-widgets/controls",
          "model_name": "ProgressStyleModel",
          "state": {
            "_view_name": "StyleView",
            "_model_name": "ProgressStyleModel",
            "description_width": "initial",
            "_view_module": "@jupyter-widgets/base",
            "_model_module_version": "1.5.0",
            "_view_count": null,
            "_view_module_version": "1.2.0",
            "bar_color": null,
            "_model_module": "@jupyter-widgets/controls"
          }
        },
        "48cfc2e9753b40bd9079481f1f207d4e": {
          "model_module": "@jupyter-widgets/base",
          "model_name": "LayoutModel",
          "state": {
            "_view_name": "LayoutView",
            "grid_template_rows": null,
            "right": null,
            "justify_content": null,
            "_view_module": "@jupyter-widgets/base",
            "overflow": null,
            "_model_module_version": "1.2.0",
            "_view_count": null,
            "flex_flow": null,
            "width": null,
            "min_width": null,
            "border": null,
            "align_items": null,
            "bottom": null,
            "_model_module": "@jupyter-widgets/base",
            "top": null,
            "grid_column": null,
            "overflow_y": null,
            "overflow_x": null,
            "grid_auto_flow": null,
            "grid_area": null,
            "grid_template_columns": null,
            "flex": null,
            "_model_name": "LayoutModel",
            "justify_items": null,
            "grid_row": null,
            "max_height": null,
            "align_content": null,
            "visibility": null,
            "align_self": null,
            "height": null,
            "min_height": null,
            "padding": null,
            "grid_auto_rows": null,
            "grid_gap": null,
            "max_width": null,
            "order": null,
            "_view_module_version": "1.2.0",
            "grid_template_areas": null,
            "object_position": null,
            "object_fit": null,
            "grid_auto_columns": null,
            "margin": null,
            "display": null,
            "left": null
          }
        },
        "596e807946d14818a6d1f13e3e827ad5": {
          "model_module": "@jupyter-widgets/controls",
          "model_name": "DescriptionStyleModel",
          "state": {
            "_view_name": "StyleView",
            "_model_name": "DescriptionStyleModel",
            "description_width": "",
            "_view_module": "@jupyter-widgets/base",
            "_model_module_version": "1.5.0",
            "_view_count": null,
            "_view_module_version": "1.2.0",
            "_model_module": "@jupyter-widgets/controls"
          }
        },
        "e69b7289a9b741a7a7762f446dd871dd": {
          "model_module": "@jupyter-widgets/base",
          "model_name": "LayoutModel",
          "state": {
            "_view_name": "LayoutView",
            "grid_template_rows": null,
            "right": null,
            "justify_content": null,
            "_view_module": "@jupyter-widgets/base",
            "overflow": null,
            "_model_module_version": "1.2.0",
            "_view_count": null,
            "flex_flow": null,
            "width": null,
            "min_width": null,
            "border": null,
            "align_items": null,
            "bottom": null,
            "_model_module": "@jupyter-widgets/base",
            "top": null,
            "grid_column": null,
            "overflow_y": null,
            "overflow_x": null,
            "grid_auto_flow": null,
            "grid_area": null,
            "grid_template_columns": null,
            "flex": null,
            "_model_name": "LayoutModel",
            "justify_items": null,
            "grid_row": null,
            "max_height": null,
            "align_content": null,
            "visibility": null,
            "align_self": null,
            "height": null,
            "min_height": null,
            "padding": null,
            "grid_auto_rows": null,
            "grid_gap": null,
            "max_width": null,
            "order": null,
            "_view_module_version": "1.2.0",
            "grid_template_areas": null,
            "object_position": null,
            "object_fit": null,
            "grid_auto_columns": null,
            "margin": null,
            "display": null,
            "left": null
          }
        },
        "32f62b2ad05c40d3b55be12fac9b5a51": {
          "model_module": "@jupyter-widgets/controls",
          "model_name": "HBoxModel",
          "state": {
            "_view_name": "HBoxView",
            "_dom_classes": [],
            "_model_name": "HBoxModel",
            "_view_module": "@jupyter-widgets/controls",
            "_model_module_version": "1.5.0",
            "_view_count": null,
            "_view_module_version": "1.5.0",
            "box_style": "",
            "layout": "IPY_MODEL_08508c7272744c8ebb3c3908726c4892",
            "_model_module": "@jupyter-widgets/controls",
            "children": [
              "IPY_MODEL_921dbc44bdc644e58488b350d6bc225e",
              "IPY_MODEL_e78ed18fea574103aba1a323e80679f7"
            ]
          }
        },
        "08508c7272744c8ebb3c3908726c4892": {
          "model_module": "@jupyter-widgets/base",
          "model_name": "LayoutModel",
          "state": {
            "_view_name": "LayoutView",
            "grid_template_rows": null,
            "right": null,
            "justify_content": null,
            "_view_module": "@jupyter-widgets/base",
            "overflow": null,
            "_model_module_version": "1.2.0",
            "_view_count": null,
            "flex_flow": null,
            "width": null,
            "min_width": null,
            "border": null,
            "align_items": null,
            "bottom": null,
            "_model_module": "@jupyter-widgets/base",
            "top": null,
            "grid_column": null,
            "overflow_y": null,
            "overflow_x": null,
            "grid_auto_flow": null,
            "grid_area": null,
            "grid_template_columns": null,
            "flex": null,
            "_model_name": "LayoutModel",
            "justify_items": null,
            "grid_row": null,
            "max_height": null,
            "align_content": null,
            "visibility": null,
            "align_self": null,
            "height": null,
            "min_height": null,
            "padding": null,
            "grid_auto_rows": null,
            "grid_gap": null,
            "max_width": null,
            "order": null,
            "_view_module_version": "1.2.0",
            "grid_template_areas": null,
            "object_position": null,
            "object_fit": null,
            "grid_auto_columns": null,
            "margin": null,
            "display": null,
            "left": null
          }
        },
        "921dbc44bdc644e58488b350d6bc225e": {
          "model_module": "@jupyter-widgets/controls",
          "model_name": "FloatProgressModel",
          "state": {
            "_view_name": "ProgressView",
            "style": "IPY_MODEL_6a9b4397614242f48890477a06730bd1",
            "_dom_classes": [],
            "description": "Downloading: 100%",
            "_model_name": "FloatProgressModel",
            "bar_style": "success",
            "max": 898823,
            "_view_module": "@jupyter-widgets/controls",
            "_model_module_version": "1.5.0",
            "value": 898823,
            "_view_count": null,
            "_view_module_version": "1.5.0",
            "orientation": "horizontal",
            "min": 0,
            "description_tooltip": null,
            "_model_module": "@jupyter-widgets/controls",
            "layout": "IPY_MODEL_cd3db9331c23489ca28a5f171b651986"
          }
        },
        "e78ed18fea574103aba1a323e80679f7": {
          "model_module": "@jupyter-widgets/controls",
          "model_name": "HTMLModel",
          "state": {
            "_view_name": "HTMLView",
            "style": "IPY_MODEL_3025d94b31b1406d85859592e8050beb",
            "_dom_classes": [],
            "description": "",
            "_model_name": "HTMLModel",
            "placeholder": "​",
            "_view_module": "@jupyter-widgets/controls",
            "_model_module_version": "1.5.0",
            "value": " 899k/899k [00:02&lt;00:00, 307kB/s]",
            "_view_count": null,
            "_view_module_version": "1.5.0",
            "description_tooltip": null,
            "_model_module": "@jupyter-widgets/controls",
            "layout": "IPY_MODEL_8ffc7283ecab48509bcbf157d6ef5786"
          }
        },
        "6a9b4397614242f48890477a06730bd1": {
          "model_module": "@jupyter-widgets/controls",
          "model_name": "ProgressStyleModel",
          "state": {
            "_view_name": "StyleView",
            "_model_name": "ProgressStyleModel",
            "description_width": "initial",
            "_view_module": "@jupyter-widgets/base",
            "_model_module_version": "1.5.0",
            "_view_count": null,
            "_view_module_version": "1.2.0",
            "bar_color": null,
            "_model_module": "@jupyter-widgets/controls"
          }
        },
        "cd3db9331c23489ca28a5f171b651986": {
          "model_module": "@jupyter-widgets/base",
          "model_name": "LayoutModel",
          "state": {
            "_view_name": "LayoutView",
            "grid_template_rows": null,
            "right": null,
            "justify_content": null,
            "_view_module": "@jupyter-widgets/base",
            "overflow": null,
            "_model_module_version": "1.2.0",
            "_view_count": null,
            "flex_flow": null,
            "width": null,
            "min_width": null,
            "border": null,
            "align_items": null,
            "bottom": null,
            "_model_module": "@jupyter-widgets/base",
            "top": null,
            "grid_column": null,
            "overflow_y": null,
            "overflow_x": null,
            "grid_auto_flow": null,
            "grid_area": null,
            "grid_template_columns": null,
            "flex": null,
            "_model_name": "LayoutModel",
            "justify_items": null,
            "grid_row": null,
            "max_height": null,
            "align_content": null,
            "visibility": null,
            "align_self": null,
            "height": null,
            "min_height": null,
            "padding": null,
            "grid_auto_rows": null,
            "grid_gap": null,
            "max_width": null,
            "order": null,
            "_view_module_version": "1.2.0",
            "grid_template_areas": null,
            "object_position": null,
            "object_fit": null,
            "grid_auto_columns": null,
            "margin": null,
            "display": null,
            "left": null
          }
        },
        "3025d94b31b1406d85859592e8050beb": {
          "model_module": "@jupyter-widgets/controls",
          "model_name": "DescriptionStyleModel",
          "state": {
            "_view_name": "StyleView",
            "_model_name": "DescriptionStyleModel",
            "description_width": "",
            "_view_module": "@jupyter-widgets/base",
            "_model_module_version": "1.5.0",
            "_view_count": null,
            "_view_module_version": "1.2.0",
            "_model_module": "@jupyter-widgets/controls"
          }
        },
        "8ffc7283ecab48509bcbf157d6ef5786": {
          "model_module": "@jupyter-widgets/base",
          "model_name": "LayoutModel",
          "state": {
            "_view_name": "LayoutView",
            "grid_template_rows": null,
            "right": null,
            "justify_content": null,
            "_view_module": "@jupyter-widgets/base",
            "overflow": null,
            "_model_module_version": "1.2.0",
            "_view_count": null,
            "flex_flow": null,
            "width": null,
            "min_width": null,
            "border": null,
            "align_items": null,
            "bottom": null,
            "_model_module": "@jupyter-widgets/base",
            "top": null,
            "grid_column": null,
            "overflow_y": null,
            "overflow_x": null,
            "grid_auto_flow": null,
            "grid_area": null,
            "grid_template_columns": null,
            "flex": null,
            "_model_name": "LayoutModel",
            "justify_items": null,
            "grid_row": null,
            "max_height": null,
            "align_content": null,
            "visibility": null,
            "align_self": null,
            "height": null,
            "min_height": null,
            "padding": null,
            "grid_auto_rows": null,
            "grid_gap": null,
            "max_width": null,
            "order": null,
            "_view_module_version": "1.2.0",
            "grid_template_areas": null,
            "object_position": null,
            "object_fit": null,
            "grid_auto_columns": null,
            "margin": null,
            "display": null,
            "left": null
          }
        },
        "9bd974f70b4d45e3ac5116aa2676b780": {
          "model_module": "@jupyter-widgets/controls",
          "model_name": "HBoxModel",
          "state": {
            "_view_name": "HBoxView",
            "_dom_classes": [],
            "_model_name": "HBoxModel",
            "_view_module": "@jupyter-widgets/controls",
            "_model_module_version": "1.5.0",
            "_view_count": null,
            "_view_module_version": "1.5.0",
            "box_style": "",
            "layout": "IPY_MODEL_2018f767ef3441f49033639abebc3c7d",
            "_model_module": "@jupyter-widgets/controls",
            "children": [
              "IPY_MODEL_40a57d52e7954dc4bc81c9506c04794c",
              "IPY_MODEL_d295e7a963a04b09a77250358c8aea7d"
            ]
          }
        },
        "2018f767ef3441f49033639abebc3c7d": {
          "model_module": "@jupyter-widgets/base",
          "model_name": "LayoutModel",
          "state": {
            "_view_name": "LayoutView",
            "grid_template_rows": null,
            "right": null,
            "justify_content": null,
            "_view_module": "@jupyter-widgets/base",
            "overflow": null,
            "_model_module_version": "1.2.0",
            "_view_count": null,
            "flex_flow": null,
            "width": null,
            "min_width": null,
            "border": null,
            "align_items": null,
            "bottom": null,
            "_model_module": "@jupyter-widgets/base",
            "top": null,
            "grid_column": null,
            "overflow_y": null,
            "overflow_x": null,
            "grid_auto_flow": null,
            "grid_area": null,
            "grid_template_columns": null,
            "flex": null,
            "_model_name": "LayoutModel",
            "justify_items": null,
            "grid_row": null,
            "max_height": null,
            "align_content": null,
            "visibility": null,
            "align_self": null,
            "height": null,
            "min_height": null,
            "padding": null,
            "grid_auto_rows": null,
            "grid_gap": null,
            "max_width": null,
            "order": null,
            "_view_module_version": "1.2.0",
            "grid_template_areas": null,
            "object_position": null,
            "object_fit": null,
            "grid_auto_columns": null,
            "margin": null,
            "display": null,
            "left": null
          }
        },
        "40a57d52e7954dc4bc81c9506c04794c": {
          "model_module": "@jupyter-widgets/controls",
          "model_name": "FloatProgressModel",
          "state": {
            "_view_name": "ProgressView",
            "style": "IPY_MODEL_7283df7e2a544aa497dc6a26f898b889",
            "_dom_classes": [],
            "description": "Downloading: 100%",
            "_model_name": "FloatProgressModel",
            "bar_style": "success",
            "max": 456318,
            "_view_module": "@jupyter-widgets/controls",
            "_model_module_version": "1.5.0",
            "value": 456318,
            "_view_count": null,
            "_view_module_version": "1.5.0",
            "orientation": "horizontal",
            "min": 0,
            "description_tooltip": null,
            "_model_module": "@jupyter-widgets/controls",
            "layout": "IPY_MODEL_fcb120c126824355a9a524d28808f90c"
          }
        },
        "d295e7a963a04b09a77250358c8aea7d": {
          "model_module": "@jupyter-widgets/controls",
          "model_name": "HTMLModel",
          "state": {
            "_view_name": "HTMLView",
            "style": "IPY_MODEL_de986542e667451e95e3225cc691e795",
            "_dom_classes": [],
            "description": "",
            "_model_name": "HTMLModel",
            "placeholder": "​",
            "_view_module": "@jupyter-widgets/controls",
            "_model_module_version": "1.5.0",
            "value": " 456k/456k [00:00&lt;00:00, 472kB/s]",
            "_view_count": null,
            "_view_module_version": "1.5.0",
            "description_tooltip": null,
            "_model_module": "@jupyter-widgets/controls",
            "layout": "IPY_MODEL_1624fee8f6a14c27ae7775e1d6c78fa7"
          }
        },
        "7283df7e2a544aa497dc6a26f898b889": {
          "model_module": "@jupyter-widgets/controls",
          "model_name": "ProgressStyleModel",
          "state": {
            "_view_name": "StyleView",
            "_model_name": "ProgressStyleModel",
            "description_width": "initial",
            "_view_module": "@jupyter-widgets/base",
            "_model_module_version": "1.5.0",
            "_view_count": null,
            "_view_module_version": "1.2.0",
            "bar_color": null,
            "_model_module": "@jupyter-widgets/controls"
          }
        },
        "fcb120c126824355a9a524d28808f90c": {
          "model_module": "@jupyter-widgets/base",
          "model_name": "LayoutModel",
          "state": {
            "_view_name": "LayoutView",
            "grid_template_rows": null,
            "right": null,
            "justify_content": null,
            "_view_module": "@jupyter-widgets/base",
            "overflow": null,
            "_model_module_version": "1.2.0",
            "_view_count": null,
            "flex_flow": null,
            "width": null,
            "min_width": null,
            "border": null,
            "align_items": null,
            "bottom": null,
            "_model_module": "@jupyter-widgets/base",
            "top": null,
            "grid_column": null,
            "overflow_y": null,
            "overflow_x": null,
            "grid_auto_flow": null,
            "grid_area": null,
            "grid_template_columns": null,
            "flex": null,
            "_model_name": "LayoutModel",
            "justify_items": null,
            "grid_row": null,
            "max_height": null,
            "align_content": null,
            "visibility": null,
            "align_self": null,
            "height": null,
            "min_height": null,
            "padding": null,
            "grid_auto_rows": null,
            "grid_gap": null,
            "max_width": null,
            "order": null,
            "_view_module_version": "1.2.0",
            "grid_template_areas": null,
            "object_position": null,
            "object_fit": null,
            "grid_auto_columns": null,
            "margin": null,
            "display": null,
            "left": null
          }
        },
        "de986542e667451e95e3225cc691e795": {
          "model_module": "@jupyter-widgets/controls",
          "model_name": "DescriptionStyleModel",
          "state": {
            "_view_name": "StyleView",
            "_model_name": "DescriptionStyleModel",
            "description_width": "",
            "_view_module": "@jupyter-widgets/base",
            "_model_module_version": "1.5.0",
            "_view_count": null,
            "_view_module_version": "1.2.0",
            "_model_module": "@jupyter-widgets/controls"
          }
        },
        "1624fee8f6a14c27ae7775e1d6c78fa7": {
          "model_module": "@jupyter-widgets/base",
          "model_name": "LayoutModel",
          "state": {
            "_view_name": "LayoutView",
            "grid_template_rows": null,
            "right": null,
            "justify_content": null,
            "_view_module": "@jupyter-widgets/base",
            "overflow": null,
            "_model_module_version": "1.2.0",
            "_view_count": null,
            "flex_flow": null,
            "width": null,
            "min_width": null,
            "border": null,
            "align_items": null,
            "bottom": null,
            "_model_module": "@jupyter-widgets/base",
            "top": null,
            "grid_column": null,
            "overflow_y": null,
            "overflow_x": null,
            "grid_auto_flow": null,
            "grid_area": null,
            "grid_template_columns": null,
            "flex": null,
            "_model_name": "LayoutModel",
            "justify_items": null,
            "grid_row": null,
            "max_height": null,
            "align_content": null,
            "visibility": null,
            "align_self": null,
            "height": null,
            "min_height": null,
            "padding": null,
            "grid_auto_rows": null,
            "grid_gap": null,
            "max_width": null,
            "order": null,
            "_view_module_version": "1.2.0",
            "grid_template_areas": null,
            "object_position": null,
            "object_fit": null,
            "grid_auto_columns": null,
            "margin": null,
            "display": null,
            "left": null
          }
        },
        "7d0c68ca0cee423aa6639a53bb510e07": {
          "model_module": "@jupyter-widgets/controls",
          "model_name": "HBoxModel",
          "state": {
            "_view_name": "HBoxView",
            "_dom_classes": [],
            "_model_name": "HBoxModel",
            "_view_module": "@jupyter-widgets/controls",
            "_model_module_version": "1.5.0",
            "_view_count": null,
            "_view_module_version": "1.5.0",
            "box_style": "",
            "layout": "IPY_MODEL_790b8004da3241a3ac37a817a6df4046",
            "_model_module": "@jupyter-widgets/controls",
            "children": [
              "IPY_MODEL_c1e667c1f2d842d5a5e3d8e0f77edcf4",
              "IPY_MODEL_665e713f47404affb3e7a694cc702968"
            ]
          }
        },
        "790b8004da3241a3ac37a817a6df4046": {
          "model_module": "@jupyter-widgets/base",
          "model_name": "LayoutModel",
          "state": {
            "_view_name": "LayoutView",
            "grid_template_rows": null,
            "right": null,
            "justify_content": null,
            "_view_module": "@jupyter-widgets/base",
            "overflow": null,
            "_model_module_version": "1.2.0",
            "_view_count": null,
            "flex_flow": null,
            "width": null,
            "min_width": null,
            "border": null,
            "align_items": null,
            "bottom": null,
            "_model_module": "@jupyter-widgets/base",
            "top": null,
            "grid_column": null,
            "overflow_y": null,
            "overflow_x": null,
            "grid_auto_flow": null,
            "grid_area": null,
            "grid_template_columns": null,
            "flex": null,
            "_model_name": "LayoutModel",
            "justify_items": null,
            "grid_row": null,
            "max_height": null,
            "align_content": null,
            "visibility": null,
            "align_self": null,
            "height": null,
            "min_height": null,
            "padding": null,
            "grid_auto_rows": null,
            "grid_gap": null,
            "max_width": null,
            "order": null,
            "_view_module_version": "1.2.0",
            "grid_template_areas": null,
            "object_position": null,
            "object_fit": null,
            "grid_auto_columns": null,
            "margin": null,
            "display": null,
            "left": null
          }
        },
        "c1e667c1f2d842d5a5e3d8e0f77edcf4": {
          "model_module": "@jupyter-widgets/controls",
          "model_name": "FloatProgressModel",
          "state": {
            "_view_name": "ProgressView",
            "style": "IPY_MODEL_2b83b8514f3e4c8aa6f6a7c417f27f7e",
            "_dom_classes": [],
            "description": "Downloading: 100%",
            "_model_name": "FloatProgressModel",
            "bar_style": "success",
            "max": 1355863,
            "_view_module": "@jupyter-widgets/controls",
            "_model_module_version": "1.5.0",
            "value": 1355863,
            "_view_count": null,
            "_view_module_version": "1.5.0",
            "orientation": "horizontal",
            "min": 0,
            "description_tooltip": null,
            "_model_module": "@jupyter-widgets/controls",
            "layout": "IPY_MODEL_09907cc15a54402a995bb0990d2b9b68"
          }
        },
        "665e713f47404affb3e7a694cc702968": {
          "model_module": "@jupyter-widgets/controls",
          "model_name": "HTMLModel",
          "state": {
            "_view_name": "HTMLView",
            "style": "IPY_MODEL_c4340a52a18548de9e15c2d291a9c78d",
            "_dom_classes": [],
            "description": "",
            "_model_name": "HTMLModel",
            "placeholder": "​",
            "_view_module": "@jupyter-widgets/controls",
            "_model_module_version": "1.5.0",
            "value": " 1.36M/1.36M [00:00&lt;00:00, 1.43MB/s]",
            "_view_count": null,
            "_view_module_version": "1.5.0",
            "description_tooltip": null,
            "_model_module": "@jupyter-widgets/controls",
            "layout": "IPY_MODEL_1e83a73731174202bb3a128b954dfd78"
          }
        },
        "2b83b8514f3e4c8aa6f6a7c417f27f7e": {
          "model_module": "@jupyter-widgets/controls",
          "model_name": "ProgressStyleModel",
          "state": {
            "_view_name": "StyleView",
            "_model_name": "ProgressStyleModel",
            "description_width": "initial",
            "_view_module": "@jupyter-widgets/base",
            "_model_module_version": "1.5.0",
            "_view_count": null,
            "_view_module_version": "1.2.0",
            "bar_color": null,
            "_model_module": "@jupyter-widgets/controls"
          }
        },
        "09907cc15a54402a995bb0990d2b9b68": {
          "model_module": "@jupyter-widgets/base",
          "model_name": "LayoutModel",
          "state": {
            "_view_name": "LayoutView",
            "grid_template_rows": null,
            "right": null,
            "justify_content": null,
            "_view_module": "@jupyter-widgets/base",
            "overflow": null,
            "_model_module_version": "1.2.0",
            "_view_count": null,
            "flex_flow": null,
            "width": null,
            "min_width": null,
            "border": null,
            "align_items": null,
            "bottom": null,
            "_model_module": "@jupyter-widgets/base",
            "top": null,
            "grid_column": null,
            "overflow_y": null,
            "overflow_x": null,
            "grid_auto_flow": null,
            "grid_area": null,
            "grid_template_columns": null,
            "flex": null,
            "_model_name": "LayoutModel",
            "justify_items": null,
            "grid_row": null,
            "max_height": null,
            "align_content": null,
            "visibility": null,
            "align_self": null,
            "height": null,
            "min_height": null,
            "padding": null,
            "grid_auto_rows": null,
            "grid_gap": null,
            "max_width": null,
            "order": null,
            "_view_module_version": "1.2.0",
            "grid_template_areas": null,
            "object_position": null,
            "object_fit": null,
            "grid_auto_columns": null,
            "margin": null,
            "display": null,
            "left": null
          }
        },
        "c4340a52a18548de9e15c2d291a9c78d": {
          "model_module": "@jupyter-widgets/controls",
          "model_name": "DescriptionStyleModel",
          "state": {
            "_view_name": "StyleView",
            "_model_name": "DescriptionStyleModel",
            "description_width": "",
            "_view_module": "@jupyter-widgets/base",
            "_model_module_version": "1.5.0",
            "_view_count": null,
            "_view_module_version": "1.2.0",
            "_model_module": "@jupyter-widgets/controls"
          }
        },
        "1e83a73731174202bb3a128b954dfd78": {
          "model_module": "@jupyter-widgets/base",
          "model_name": "LayoutModel",
          "state": {
            "_view_name": "LayoutView",
            "grid_template_rows": null,
            "right": null,
            "justify_content": null,
            "_view_module": "@jupyter-widgets/base",
            "overflow": null,
            "_model_module_version": "1.2.0",
            "_view_count": null,
            "flex_flow": null,
            "width": null,
            "min_width": null,
            "border": null,
            "align_items": null,
            "bottom": null,
            "_model_module": "@jupyter-widgets/base",
            "top": null,
            "grid_column": null,
            "overflow_y": null,
            "overflow_x": null,
            "grid_auto_flow": null,
            "grid_area": null,
            "grid_template_columns": null,
            "flex": null,
            "_model_name": "LayoutModel",
            "justify_items": null,
            "grid_row": null,
            "max_height": null,
            "align_content": null,
            "visibility": null,
            "align_self": null,
            "height": null,
            "min_height": null,
            "padding": null,
            "grid_auto_rows": null,
            "grid_gap": null,
            "max_width": null,
            "order": null,
            "_view_module_version": "1.2.0",
            "grid_template_areas": null,
            "object_position": null,
            "object_fit": null,
            "grid_auto_columns": null,
            "margin": null,
            "display": null,
            "left": null
          }
        },
        "c26c6d81455542f5a42d8f3006866533": {
          "model_module": "@jupyter-widgets/controls",
          "model_name": "HBoxModel",
          "state": {
            "_view_name": "HBoxView",
            "_dom_classes": [],
            "_model_name": "HBoxModel",
            "_view_module": "@jupyter-widgets/controls",
            "_model_module_version": "1.5.0",
            "_view_count": null,
            "_view_module_version": "1.5.0",
            "box_style": "",
            "layout": "IPY_MODEL_c26d767c018d4a8baa7714cf86c88075",
            "_model_module": "@jupyter-widgets/controls",
            "children": [
              "IPY_MODEL_de50c9c676d7428db52f4ede57e3526f",
              "IPY_MODEL_e28e82e7295b4c21ba73a11ac14a8dff"
            ]
          }
        },
        "c26d767c018d4a8baa7714cf86c88075": {
          "model_module": "@jupyter-widgets/base",
          "model_name": "LayoutModel",
          "state": {
            "_view_name": "LayoutView",
            "grid_template_rows": null,
            "right": null,
            "justify_content": null,
            "_view_module": "@jupyter-widgets/base",
            "overflow": null,
            "_model_module_version": "1.2.0",
            "_view_count": null,
            "flex_flow": null,
            "width": null,
            "min_width": null,
            "border": null,
            "align_items": null,
            "bottom": null,
            "_model_module": "@jupyter-widgets/base",
            "top": null,
            "grid_column": null,
            "overflow_y": null,
            "overflow_x": null,
            "grid_auto_flow": null,
            "grid_area": null,
            "grid_template_columns": null,
            "flex": null,
            "_model_name": "LayoutModel",
            "justify_items": null,
            "grid_row": null,
            "max_height": null,
            "align_content": null,
            "visibility": null,
            "align_self": null,
            "height": null,
            "min_height": null,
            "padding": null,
            "grid_auto_rows": null,
            "grid_gap": null,
            "max_width": null,
            "order": null,
            "_view_module_version": "1.2.0",
            "grid_template_areas": null,
            "object_position": null,
            "object_fit": null,
            "grid_auto_columns": null,
            "margin": null,
            "display": null,
            "left": null
          }
        },
        "de50c9c676d7428db52f4ede57e3526f": {
          "model_module": "@jupyter-widgets/controls",
          "model_name": "FloatProgressModel",
          "state": {
            "_view_name": "ProgressView",
            "style": "IPY_MODEL_950a1cc6814348568af4fc3e339ad3ab",
            "_dom_classes": [],
            "description": "Downloading: 100%",
            "_model_name": "FloatProgressModel",
            "bar_style": "success",
            "max": 657434796,
            "_view_module": "@jupyter-widgets/controls",
            "_model_module_version": "1.5.0",
            "value": 657434796,
            "_view_count": null,
            "_view_module_version": "1.5.0",
            "orientation": "horizontal",
            "min": 0,
            "description_tooltip": null,
            "_model_module": "@jupyter-widgets/controls",
            "layout": "IPY_MODEL_a7e1baa05d7d4270b0d07d4ffb34a210"
          }
        },
        "e28e82e7295b4c21ba73a11ac14a8dff": {
          "model_module": "@jupyter-widgets/controls",
          "model_name": "HTMLModel",
          "state": {
            "_view_name": "HTMLView",
            "style": "IPY_MODEL_f1757c8bc590410d86cc07ff2de52003",
            "_dom_classes": [],
            "description": "",
            "_model_name": "HTMLModel",
            "placeholder": "​",
            "_view_module": "@jupyter-widgets/controls",
            "_model_module_version": "1.5.0",
            "value": " 657M/657M [00:24&lt;00:00, 26.4MB/s]",
            "_view_count": null,
            "_view_module_version": "1.5.0",
            "description_tooltip": null,
            "_model_module": "@jupyter-widgets/controls",
            "layout": "IPY_MODEL_36e9b343928b465c868c56f49ada8dc4"
          }
        },
        "950a1cc6814348568af4fc3e339ad3ab": {
          "model_module": "@jupyter-widgets/controls",
          "model_name": "ProgressStyleModel",
          "state": {
            "_view_name": "StyleView",
            "_model_name": "ProgressStyleModel",
            "description_width": "initial",
            "_view_module": "@jupyter-widgets/base",
            "_model_module_version": "1.5.0",
            "_view_count": null,
            "_view_module_version": "1.2.0",
            "bar_color": null,
            "_model_module": "@jupyter-widgets/controls"
          }
        },
        "a7e1baa05d7d4270b0d07d4ffb34a210": {
          "model_module": "@jupyter-widgets/base",
          "model_name": "LayoutModel",
          "state": {
            "_view_name": "LayoutView",
            "grid_template_rows": null,
            "right": null,
            "justify_content": null,
            "_view_module": "@jupyter-widgets/base",
            "overflow": null,
            "_model_module_version": "1.2.0",
            "_view_count": null,
            "flex_flow": null,
            "width": null,
            "min_width": null,
            "border": null,
            "align_items": null,
            "bottom": null,
            "_model_module": "@jupyter-widgets/base",
            "top": null,
            "grid_column": null,
            "overflow_y": null,
            "overflow_x": null,
            "grid_auto_flow": null,
            "grid_area": null,
            "grid_template_columns": null,
            "flex": null,
            "_model_name": "LayoutModel",
            "justify_items": null,
            "grid_row": null,
            "max_height": null,
            "align_content": null,
            "visibility": null,
            "align_self": null,
            "height": null,
            "min_height": null,
            "padding": null,
            "grid_auto_rows": null,
            "grid_gap": null,
            "max_width": null,
            "order": null,
            "_view_module_version": "1.2.0",
            "grid_template_areas": null,
            "object_position": null,
            "object_fit": null,
            "grid_auto_columns": null,
            "margin": null,
            "display": null,
            "left": null
          }
        },
        "f1757c8bc590410d86cc07ff2de52003": {
          "model_module": "@jupyter-widgets/controls",
          "model_name": "DescriptionStyleModel",
          "state": {
            "_view_name": "StyleView",
            "_model_name": "DescriptionStyleModel",
            "description_width": "",
            "_view_module": "@jupyter-widgets/base",
            "_model_module_version": "1.5.0",
            "_view_count": null,
            "_view_module_version": "1.2.0",
            "_model_module": "@jupyter-widgets/controls"
          }
        },
        "36e9b343928b465c868c56f49ada8dc4": {
          "model_module": "@jupyter-widgets/base",
          "model_name": "LayoutModel",
          "state": {
            "_view_name": "LayoutView",
            "grid_template_rows": null,
            "right": null,
            "justify_content": null,
            "_view_module": "@jupyter-widgets/base",
            "overflow": null,
            "_model_module_version": "1.2.0",
            "_view_count": null,
            "flex_flow": null,
            "width": null,
            "min_width": null,
            "border": null,
            "align_items": null,
            "bottom": null,
            "_model_module": "@jupyter-widgets/base",
            "top": null,
            "grid_column": null,
            "overflow_y": null,
            "overflow_x": null,
            "grid_auto_flow": null,
            "grid_area": null,
            "grid_template_columns": null,
            "flex": null,
            "_model_name": "LayoutModel",
            "justify_items": null,
            "grid_row": null,
            "max_height": null,
            "align_content": null,
            "visibility": null,
            "align_self": null,
            "height": null,
            "min_height": null,
            "padding": null,
            "grid_auto_rows": null,
            "grid_gap": null,
            "max_width": null,
            "order": null,
            "_view_module_version": "1.2.0",
            "grid_template_areas": null,
            "object_position": null,
            "object_fit": null,
            "grid_auto_columns": null,
            "margin": null,
            "display": null,
            "left": null
          }
        }
      }
    },
    "accelerator": "GPU"
  },
  "cells": [
    {
      "cell_type": "markdown",
      "metadata": {
        "id": "view-in-github",
        "colab_type": "text"
      },
      "source": [
        "<a href=\"https://colab.research.google.com/github/MosheWasserb/BestPracticeTextClassificationDistillation/blob/main/Distill_Blog_1.ipynb\" target=\"_parent\"><img src=\"https://colab.research.google.com/assets/colab-badge.svg\" alt=\"Open In Colab\"/></a>"
      ]
    },
    {
      "cell_type": "markdown",
      "metadata": {
        "id": "aATd_K3bFGps"
      },
      "source": [
        "## Init"
      ]
    },
    {
      "cell_type": "code",
      "metadata": {
        "id": "KANQ9jKWFXmf"
      },
      "source": [
        "### All the following code lines should be un-masked to allow\n",
        "### traininng transformers (with ktrain+HuggingFace) and/or generating pseudo labels \n",
        "### Please make sure to restrat runtime at the dirst time and set HW accelerator configuration\n",
        "\n",
        "#!pip install ktrain\n",
        "#import ktrain\n",
        "#from ktrain import text\n",
        "\n",
        "#def ModelTransformer(model_name, categories,max_len, epochs, batch_size):\n",
        "\n",
        "#  t = text.Transformer(model_name, maxlen=max_len, class_names=categories)   \n",
        "#  trn = t.preprocess_train(x_train, y_train)\n",
        "#  val = t.preprocess_test(x_test, y_test)\n",
        "#  model = t.get_classifier()\n",
        "#  learner = ktrain.get_learner(model, train_data=trn, val_data=val, batch_size=batch_size) \n",
        "#  learner.fit_onecycle(2e-5, epochs)\n",
        "#  return(learner, t)"
      ],
      "execution_count": null,
      "outputs": []
    },
    {
      "cell_type": "code",
      "metadata": {
        "id": "YZ_D68CbVLqA"
      },
      "source": [
        "!nvidia-smi"
      ],
      "execution_count": null,
      "outputs": []
    },
    {
      "cell_type": "code",
      "metadata": {
        "id": "pGyItnhUcBra"
      },
      "source": [
        "import pandas as pd\n",
        "import numpy as np\n",
        "\n",
        "from sklearn.pipeline import make_pipeline\n",
        "from sklearn.feature_extraction.text import TfidfVectorizer\n",
        "from sklearn.linear_model import LogisticRegression\n",
        "\n",
        "from keras.preprocessing.text import Tokenizer\n",
        "from keras.preprocessing.sequence import pad_sequences\n",
        "from keras.layers import Embedding, GlobalAveragePooling1D, Dense, Input, Conv1D, MaxPooling1D, Dropout\n",
        "from keras.models import Sequential, Model, load_model\n",
        "from keras.callbacks import EarlyStopping, ModelCheckpoint\n",
        "from sklearn.metrics import accuracy_score,classification_report\n",
        "from matplotlib import pyplot as plt\n",
        "import tensorflow as tf\n",
        "\n",
        "import pickle\n",
        "def convert_to_pickle(item, directory):\n",
        "    pickle.dump(item, open(directory,\"wb\"))\n",
        "def load_from_pickle(directory):\n",
        "    return pickle.load(open(directory,\"rb\"))\n",
        "\n",
        "import random\n",
        "import torch\n",
        "\n",
        "def set_seed(seed):\n",
        "  random.seed(seed)\n",
        "  np.random.seed(seed)\n",
        "  tf.random.set_seed(seed)\n",
        "\n",
        "set_seed(42)"
      ],
      "execution_count": 2,
      "outputs": []
    },
    {
      "cell_type": "code",
      "metadata": {
        "id": "vuPVL1-bZ95-"
      },
      "source": [
        "def Tokenizer_Padding(max_num_words,maxlen, X_train,X_test): \n",
        "\n",
        "  oov_token = '<UNK>' # Required only if test is not given \n",
        "  pad_type = 'post'\n",
        "  trunc_type = 'post'\n",
        "\n",
        "# Tokenize our training data\n",
        "  tokenizer = Tokenizer(num_words=max_num_words, oov_token = '<UNK>')\n",
        "  tokenizer.fit_on_texts(X_train)\n",
        "\n",
        "# Encode training data sentences into sequences\n",
        "  train_sequences = tokenizer.texts_to_sequences(X_train)\n",
        "\n",
        "# Pad the training sequences\n",
        "  train_padded = pad_sequences(train_sequences, padding=pad_type, truncating=trunc_type, maxlen=maxlen)\n",
        "\n",
        "# Encode test data sentences into sequences and padding\n",
        "  test_sequences = tokenizer.texts_to_sequences(X_test)\n",
        "  test_padded = pad_sequences(test_sequences, padding=pad_type, truncating=trunc_type, maxlen=maxlen)\n",
        "\n",
        "  return(train_padded, test_padded)"
      ],
      "execution_count": 3,
      "outputs": []
    },
    {
      "cell_type": "code",
      "metadata": {
        "id": "t4rdd1g8nZQU"
      },
      "source": [
        "def ModelArch(max_num_words, max_len, num_class, model_type, embedding_dim):\n",
        "\n",
        "  if model_type=='MLP':\n",
        "    model = Sequential()\n",
        "    model.add(Embedding(input_dim=max_num_words, output_dim=embedding_dim, input_length=max_len,trainable=True))\n",
        "    model.add(GlobalAveragePooling1D())\n",
        "    model.add(Dense(embedding_dim, activation='relu'))\n",
        "    model.add(Dropout(0.05))\n",
        "    model.add(Dense(num_class, activation='softmax')) \n",
        " \n",
        "  model.compile(optimizer='adam', loss='KLD',metrics=['accuracy'])\n",
        "\n",
        "  return(model)"
      ],
      "execution_count": 4,
      "outputs": []
    },
    {
      "cell_type": "code",
      "metadata": {
        "id": "xFeMw6BHrg18"
      },
      "source": [
        "def ModelProcess(train_padded,test_padded, y_train_hotvec,epochs,model):\n",
        "\n",
        "  callbacks_list = [\n",
        "    ModelCheckpoint(\n",
        "        filepath='best_model.h5',\n",
        "        monitor='val_accuracy', mode='max', save_best_only=True, verbose=0),\n",
        "    EarlyStopping(monitor='val_loss', mode='min', verbose=1, patience=10)]\n",
        "\n",
        "  history = model.fit(\n",
        "    train_padded,\n",
        "    y_train_hotvec,  \n",
        "    epochs=epochs,\n",
        "    batch_size=512,\n",
        "    validation_split=0.1,\n",
        "    shuffle=True,\n",
        "    verbose=0,\n",
        "    callbacks=callbacks_list)\n",
        "  \n",
        "  saved_model = load_model('best_model.h5')\n",
        "  logits_pred = saved_model.predict(test_padded, batch_size=64, verbose=1)\n",
        "  y_pred_bool = np.argmax(logits_pred, axis=1)\n",
        "\n",
        "\n",
        "  return(y_pred_bool, history, saved_model)"
      ],
      "execution_count": 5,
      "outputs": []
    },
    {
      "cell_type": "markdown",
      "metadata": {
        "id": "jauacqoT3AfT"
      },
      "source": [
        "# Blog 1/3"
      ]
    },
    {
      "cell_type": "markdown",
      "metadata": {
        "id": "LRqPNwPekdpF"
      },
      "source": [
        "Load emotion dataset from HuggingFace"
      ]
    },
    {
      "cell_type": "code",
      "metadata": {
        "id": "V_daxNdPkkjT"
      },
      "source": [
        "!pip install datasets\n",
        "from datasets import load_dataset\n",
        "emotion_dataset = load_dataset('emotion')\n",
        "\n",
        "train_df = pd.DataFrame(list(zip(emotion_dataset['train']['text'], emotion_dataset['train']['label'])), \n",
        "               columns =['text', 'label'])\n",
        "\n",
        "test_df = pd.DataFrame(list(zip(emotion_dataset['test']['text'], emotion_dataset['test']['label'])), \n",
        "               columns =['text', 'label'])\n",
        "\n",
        "x_train = train_df.text.values\n",
        "y_train = train_df.label.values\n",
        "\n",
        "x_test =  test_df.text.values\n",
        "y_test = test_df.label.values\n",
        "\n",
        "\n",
        "value2hot = {\n",
        "  0: [1,0,0,0,0,0],\n",
        "  1: [0,1,0,0,0,0],\n",
        "  2: [0,0,1,0,0,0],\n",
        "  3: [0,0,0,1,0,0],\n",
        "  4: [0,0,0,0,1,0],\n",
        "  5: [0,0,0,0,0,1]\n",
        "}\n",
        "\n",
        "y_train_hotvec = np.array([value2hot[l] for l in y_train])"
      ],
      "execution_count": null,
      "outputs": []
    },
    {
      "cell_type": "markdown",
      "metadata": {
        "id": "faeIjqd_3cqA"
      },
      "source": [
        "1st  step: Set a baseline using MLP and logistic regression model (TfIdf based)"
      ]
    },
    {
      "cell_type": "code",
      "metadata": {
        "colab": {
          "base_uri": "https://localhost:8080/"
        },
        "id": "4xdJXqC2jGRJ",
        "outputId": "02568121-38f9-4e22-de20-3a857a905f97"
      },
      "source": [
        "# sklearn's MLP (TfIdf based)\n",
        "from sklearn.neural_network import MLPClassifier, MLPRegressor\n",
        "model = make_pipeline(TfidfVectorizer(ngram_range=(1,1)), MLPClassifier(random_state=1,early_stopping=True,hidden_layer_sizes=(16))).fit(x_train, y_train)\n",
        "predicted = model.predict(x_test)\n",
        "print(accuracy_score(y_test, predicted))\n",
        "print(classification_report(y_test, predicted))"
      ],
      "execution_count": 6,
      "outputs": [
        {
          "output_type": "stream",
          "text": [
            "0.861\n",
            "              precision    recall  f1-score   support\n",
            "\n",
            "           0       0.89      0.92      0.90       581\n",
            "           1       0.85      0.93      0.89       695\n",
            "           2       0.81      0.66      0.73       159\n",
            "           3       0.87      0.85      0.86       275\n",
            "           4       0.84      0.75      0.80       224\n",
            "           5       0.80      0.56      0.66        66\n",
            "\n",
            "    accuracy                           0.86      2000\n",
            "   macro avg       0.84      0.78      0.81      2000\n",
            "weighted avg       0.86      0.86      0.86      2000\n",
            "\n"
          ],
          "name": "stdout"
        }
      ]
    },
    {
      "cell_type": "code",
      "metadata": {
        "colab": {
          "base_uri": "https://localhost:8080/"
        },
        "id": "u3W4BNt73iFR",
        "outputId": "db2f988a-40fd-4fa0-cb35-9f983cfd099e"
      },
      "source": [
        "# sklearn's' Logistic (TfIdf based)\n",
        "model = make_pipeline(TfidfVectorizer(ngram_range=(1,1)), LogisticRegression(max_iter=200)).fit(x_train, y_train)\n",
        "predicted = model.predict(x_test)\n",
        "print(accuracy_score(y_test, predicted))\n",
        "print(classification_report(y_test, predicted))"
      ],
      "execution_count": 7,
      "outputs": [
        {
          "output_type": "stream",
          "text": [
            "0.861\n",
            "              precision    recall  f1-score   support\n",
            "\n",
            "           0       0.89      0.93      0.91       581\n",
            "           1       0.83      0.96      0.89       695\n",
            "           2       0.82      0.58      0.68       159\n",
            "           3       0.90      0.81      0.85       275\n",
            "           4       0.87      0.78      0.82       224\n",
            "           5       0.84      0.47      0.60        66\n",
            "\n",
            "    accuracy                           0.86      2000\n",
            "   macro avg       0.86      0.75      0.79      2000\n",
            "weighted avg       0.86      0.86      0.86      2000\n",
            "\n"
          ],
          "name": "stdout"
        }
      ]
    },
    {
      "cell_type": "markdown",
      "metadata": {
        "id": "N95ANIJV6xr2"
      },
      "source": [
        "2nd step: Deep Learning baseline"
      ]
    },
    {
      "cell_type": "code",
      "metadata": {
        "id": "XfFFUDHKETzX"
      },
      "source": [
        "NUM_CLASS = 6\n",
        "MAX_NUM_WORDS = 5000\n",
        "MAX_LEN = 64 \n",
        "EPOCHS = 100\n",
        "EMBEDDING_DIM=16"
      ],
      "execution_count": 6,
      "outputs": []
    },
    {
      "cell_type": "code",
      "metadata": {
        "id": "3ooCm0uKbOUe"
      },
      "source": [
        "#Tokenization\n",
        "train_padded, test_padded = Tokenizer_Padding(MAX_NUM_WORDS, MAX_LEN, x_train,x_test)"
      ],
      "execution_count": 7,
      "outputs": []
    },
    {
      "cell_type": "code",
      "metadata": {
        "id": "VFPPQVVG_27Q",
        "colab": {
          "base_uri": "https://localhost:8080/"
        },
        "outputId": "7b0b047d-ff1e-420e-ef05-352de6057fc8"
      },
      "source": [
        "model = ModelArch(MAX_NUM_WORDS, MAX_LEN, NUM_CLASS, 'MLP', EMBEDDING_DIM)\n",
        "y_pred_bool, history, saved_model = ModelProcess(train_padded,test_padded, y_train_hotvec,EPOCHS,model)\n",
        "print(accuracy_score(y_test, y_pred_bool))\n",
        "print(classification_report(y_test, y_pred_bool))"
      ],
      "execution_count": 8,
      "outputs": [
        {
          "output_type": "stream",
          "text": [
            "32/32 [==============================] - 0s 790us/step\n",
            "0.8585\n",
            "              precision    recall  f1-score   support\n",
            "\n",
            "           0       0.91      0.90      0.91       581\n",
            "           1       0.88      0.91      0.90       695\n",
            "           2       0.65      0.65      0.65       159\n",
            "           3       0.86      0.86      0.86       275\n",
            "           4       0.80      0.87      0.83       224\n",
            "           5       0.81      0.39      0.53        66\n",
            "\n",
            "    accuracy                           0.86      2000\n",
            "   macro avg       0.82      0.76      0.78      2000\n",
            "weighted avg       0.86      0.86      0.86      2000\n",
            "\n"
          ],
          "name": "stdout"
        }
      ]
    },
    {
      "cell_type": "code",
      "metadata": {
        "colab": {
          "base_uri": "https://localhost:8080/",
          "height": 295
        },
        "id": "DDoDWllYNKiE",
        "outputId": "b6ad9b5a-4104-4d83-f15c-06be4678455b"
      },
      "source": [
        "# Plot the training and validation accuracu and loss at each epoch\n",
        "loss = history.history['loss']\n",
        "val_loss = history.history['val_loss']\n",
        "epochs = range(1, len(loss) + 1)\n",
        "plt.plot(epochs, loss, 'y', label='Training loss')\n",
        "plt.plot(epochs, val_loss, 'r', label='Validation loss')\n",
        "plt.title('Training and validation loss')\n",
        "plt.xlabel('Epochs')\n",
        "plt.ylabel('Loss')\n",
        "plt.legend()\n",
        "plt.show()"
      ],
      "execution_count": 9,
      "outputs": [
        {
          "output_type": "display_data",
          "data": {
            "image/png": "[encoded data removed]",
            "text/plain": [
              "<Figure size 432x288 with 1 Axes>"
            ]
          },
          "metadata": {
            "tags": [],
            "needs_background": "light"
          }
        }
      ]
    },
    {
      "cell_type": "code",
      "metadata": {
        "colab": {
          "base_uri": "https://localhost:8080/",
          "height": 295
        },
        "id": "z0J9TYb0NMZ9",
        "outputId": "fea3970b-26ec-4cf0-c934-a6e05cc3ebd2"
      },
      "source": [
        "acc = history.history['accuracy']\n",
        "val_acc = history.history['val_accuracy']\n",
        "plt.plot(epochs, acc, 'y', label='Training acc')\n",
        "plt.plot(epochs, val_acc, 'r', label='Validation acc')\n",
        "plt.title('Training and validation accuracy')\n",
        "plt.xlabel('Epochs')\n",
        "plt.ylabel('Accuracy')\n",
        "plt.legend()\n",
        "plt.show()"
      ],
      "execution_count": 10,
      "outputs": [
        {
          "output_type": "display_data",
          "data": {
            "image/png": "[encoded data removed]",
            "text/plain": [
              "<Figure size 432x288 with 1 Axes>"
            ]
          },
          "metadata": {
            "tags": [],
            "needs_background": "light"
          }
        }
      ]
    },
    {
      "cell_type": "markdown",
      "metadata": {
        "id": "XaokxRyv624r"
      },
      "source": [
        "3rd step: Transformers models "
      ]
    },
    {
      "cell_type": "code",
      "metadata": {
        "id": "Ncl8sqnT8fWr"
      },
      "source": [
        "###Un-masked the follwoing code line to allow transformer trainning \n",
        "#learner, t = ModelTransformer(model_name = 'bert-base-uncased', categories=['0','1','2','3','4','5'],max_len=64, epochs=2, batch_size=32)     # maxlen: emotion = 64"
      ],
      "execution_count": null,
      "outputs": []
    },
    {
      "cell_type": "markdown",
      "metadata": {
        "id": "rMSvAvVD-ryq"
      },
      "source": [
        "4th step: DistillBERT"
      ]
    },
    {
      "cell_type": "code",
      "metadata": {
        "id": "BJe5UtDr0Mpb"
      },
      "source": [
        "###Un-masked the follwoing code line to allow transformer trainning \n",
        "#learner, t = ModelTransformer('distilbert-base-uncased', categories=['0','1','2','3','4','5'],max_len=64, epochs=2, batch_size=32)     # maxlen: emotion = 64"
      ],
      "execution_count": null,
      "outputs": []
    },
    {
      "cell_type": "markdown",
      "metadata": {
        "id": "6FOEFPF2-9j2"
      },
      "source": [
        "5th: Distill Roberta to a simpler student\n"
      ]
    },
    {
      "cell_type": "code",
      "metadata": {
        "id": "94FAuapMx8uA"
      },
      "source": [
        "###Load all Emotion's dataset (only the text sentences)\n",
        "!wget https://www.dropbox.com/s/607ptdakxuh5i4s/merged_training.pkl\n",
        "\n",
        "### Emotion dataset Citaion Information: \n",
        "###@inproceedings{saravia-etal-2018-carer,\n",
        "###    title = \"{CARER}: Contextualized Affect Representations for Emotion Recognition\",\n",
        "###    author = \"Saravia, Elvis  and\n",
        "###      Liu, Hsien-Chi Toby  and\n",
        "###      Huang, Yen-Hao  and\n",
        "###      Wu, Junlin  and\n",
        "###      Chen, Yi-Shin\",\n",
        "###    booktitle = \"Proceedings of the 2018 Conference on Empirical Methods in Natural Language Processing\",\n",
        "###    month = oct # \"-\" # nov,\n",
        "###    year = \"2018\",\n",
        "###    address = \"Brussels, Belgium\",\n",
        "###    publisher = \"Association for Computational Linguistics\",\n",
        "###    url = \"https://www.aclweb.org/anthology/D18-1404\",\n",
        "###    doi = \"10.18653/v1/D18-1404\",\n",
        "###    pages = \"3687--3697\",\n",
        "###    abstract = \"Emotions are expressed in nuanced ways, which varies by collective or individual experiences, knowledge, and beliefs. Therefore, to understand emotion, as conveyed through text, a robust mechanism capable of capturing and modeling different linguistic nuances and phenomena is needed. We propose a semi-supervised, graph-based algorithm to produce rich structural descriptors which serve as the building blocks for constructing contextualized affect representations from text. The pattern-based representations are further enriched with word embeddings and evaluated through several emotion recognition tasks. Our experimental results demonstrate that the proposed method outperforms state-of-the-art techniques on emotion recognition tasks.\",\n",
        "###}\n",
        "\n",
        "aug_df = load_from_pickle(directory=\"merged_training.pkl\")\n",
        "x_aug = aug_df.text.values\n"
      ],
      "execution_count": null,
      "outputs": []
    },
    {
      "cell_type": "markdown",
      "metadata": {
        "id": "B6oWf1L4TsSA"
      },
      "source": [
        "Fine-tune RoBERRa and Regenerate x_aug's pseudo labeled data "
      ]
    },
    {
      "cell_type": "code",
      "metadata": {
        "id": "o8Yq2uH5BhYp",
        "colab": {
          "base_uri": "https://localhost:8080/",
          "height": 789,
          "referenced_widgets": [
            "7a3dfb5bbf8542a08ddae434dfcf869a",
            "be1c56d38102467692625373444eafa1",
            "1e0245db3b1641c1a7ca89347d639975",
            "5de8f3514b544d70a83a0bbc39e2674b",
            "1d17da17876d464cad7e1db16c83bac0",
            "48cfc2e9753b40bd9079481f1f207d4e",
            "596e807946d14818a6d1f13e3e827ad5",
            "e69b7289a9b741a7a7762f446dd871dd",
            "32f62b2ad05c40d3b55be12fac9b5a51",
            "08508c7272744c8ebb3c3908726c4892",
            "921dbc44bdc644e58488b350d6bc225e",
            "e78ed18fea574103aba1a323e80679f7",
            "6a9b4397614242f48890477a06730bd1",
            "cd3db9331c23489ca28a5f171b651986",
            "3025d94b31b1406d85859592e8050beb",
            "8ffc7283ecab48509bcbf157d6ef5786",
            "9bd974f70b4d45e3ac5116aa2676b780",
            "2018f767ef3441f49033639abebc3c7d",
            "40a57d52e7954dc4bc81c9506c04794c",
            "d295e7a963a04b09a77250358c8aea7d",
            "7283df7e2a544aa497dc6a26f898b889",
            "fcb120c126824355a9a524d28808f90c",
            "de986542e667451e95e3225cc691e795",
            "1624fee8f6a14c27ae7775e1d6c78fa7",
            "7d0c68ca0cee423aa6639a53bb510e07",
            "790b8004da3241a3ac37a817a6df4046",
            "c1e667c1f2d842d5a5e3d8e0f77edcf4",
            "665e713f47404affb3e7a694cc702968",
            "2b83b8514f3e4c8aa6f6a7c417f27f7e",
            "09907cc15a54402a995bb0990d2b9b68",
            "c4340a52a18548de9e15c2d291a9c78d",
            "1e83a73731174202bb3a128b954dfd78",
            "c26c6d81455542f5a42d8f3006866533",
            "c26d767c018d4a8baa7714cf86c88075",
            "de50c9c676d7428db52f4ede57e3526f",
            "e28e82e7295b4c21ba73a11ac14a8dff",
            "950a1cc6814348568af4fc3e339ad3ab",
            "a7e1baa05d7d4270b0d07d4ffb34a210",
            "f1757c8bc590410d86cc07ff2de52003",
            "36e9b343928b465c868c56f49ada8dc4"
          ]
        },
        "outputId": "4d11a78a-fcd6-4d9e-ce34-985b573602ba"
      },
      "source": [
        "####Option A: Download the pseudo labels of x_aug directly from my GitHub \n",
        "!wget https://raw.githubusercontent.com/MosheWasserb/BestPracticeTextClassificationDistillation/main/Emotion_Acc9270_y_aug_hotvec.pkl\n",
        "y_aug_hotvec=load_from_pickle(directory=\"Emotion_Acc9270_y_aug_hotvec.pkl\")\n",
        "\n",
        "###Option B: Un-masked the following code lines to regenerate x_aug's pseudo labels \n",
        "### Please note this process takes a while so make sure to reconfigurate your HW accelerator properly\n",
        "###Trainning Roberta:\n",
        "#learner, t = ModelTransformer('roberta-base', categories=['0','1','2','3','4','5'],max_len=64, epochs=2, batch_size=32)     # maxlen: emotion = 64\n",
        "###ReGenerate the pseudo labels with Robeera: \n",
        "#predictor = ktrain.get_predictor(learner.model, t, batch_size=512)\n",
        "#y_aug_hotvec = predictor.predict_proba(x_aug)"
      ],
      "execution_count": 7,
      "outputs": [
        {
          "output_type": "stream",
          "text": [
            "--2021-04-29 11:19:39--  https://raw.githubusercontent.com/MosheWasserb/BestPracticeTextClassificationDistillation/main/Emotion_Acc9270_y_aug_hotvec.pkl\n",
            "Resolving raw.githubusercontent.com (raw.githubusercontent.com)... 185.199.108.133, 185.199.109.133, 185.199.110.133, ...\n",
            "Connecting to raw.githubusercontent.com (raw.githubusercontent.com)|185.199.108.133|:443... connected.\n",
            "HTTP request sent, awaiting response... 200 OK\n",
            "Length: 10003577 (9.5M) [application/octet-stream]\n",
            "Saving to: ‘Emotion_Acc9270_y_aug_hotvec.pkl.1’\n",
            "\n",
            "Emotion_Acc9270_y_a 100%[===================>]   9.54M  --.-KB/s    in 0.08s   \n",
            "\n",
            "2021-04-29 11:19:39 (113 MB/s) - ‘Emotion_Acc9270_y_aug_hotvec.pkl.1’ saved [10003577/10003577]\n",
            "\n"
          ],
          "name": "stdout"
        },
        {
          "output_type": "display_data",
          "data": {
            "application/vnd.jupyter.widget-view+json": {
              "model_id": "7a3dfb5bbf8542a08ddae434dfcf869a",
              "version_minor": 0,
              "version_major": 2
            },
            "text/plain": [
              "HBox(children=(FloatProgress(value=0.0, description='Downloading', max=481.0, style=ProgressStyle(description_…"
            ]
          },
          "metadata": {
            "tags": []
          }
        },
        {
          "output_type": "stream",
          "text": [
            "\n",
            "preprocessing train...\n",
            "language: en\n",
            "train sequence lengths:\n",
            "\tmean : 19\n",
            "\t95percentile : 41\n",
            "\t99percentile : 52\n"
          ],
          "name": "stdout"
        },
        {
          "output_type": "display_data",
          "data": {
            "application/vnd.jupyter.widget-view+json": {
              "model_id": "32f62b2ad05c40d3b55be12fac9b5a51",
              "version_minor": 0,
              "version_major": 2
            },
            "text/plain": [
              "HBox(children=(FloatProgress(value=0.0, description='Downloading', max=898823.0, style=ProgressStyle(descripti…"
            ]
          },
          "metadata": {
            "tags": []
          }
        },
        {
          "output_type": "stream",
          "text": [
            "\n"
          ],
          "name": "stdout"
        },
        {
          "output_type": "display_data",
          "data": {
            "application/vnd.jupyter.widget-view+json": {
              "model_id": "9bd974f70b4d45e3ac5116aa2676b780",
              "version_minor": 0,
              "version_major": 2
            },
            "text/plain": [
              "HBox(children=(FloatProgress(value=0.0, description='Downloading', max=456318.0, style=ProgressStyle(descripti…"
            ]
          },
          "metadata": {
            "tags": []
          }
        },
        {
          "output_type": "stream",
          "text": [
            "\n"
          ],
          "name": "stdout"
        },
        {
          "output_type": "display_data",
          "data": {
            "application/vnd.jupyter.widget-view+json": {
              "model_id": "7d0c68ca0cee423aa6639a53bb510e07",
              "version_minor": 0,
              "version_major": 2
            },
            "text/plain": [
              "HBox(children=(FloatProgress(value=0.0, description='Downloading', max=1355863.0, style=ProgressStyle(descript…"
            ]
          },
          "metadata": {
            "tags": []
          }
        },
        {
          "output_type": "stream",
          "text": [
            "\n"
          ],
          "name": "stdout"
        },
        {
          "output_type": "display_data",
          "data": {
            "text/html": [
              ""
            ],
            "text/plain": [
              "<IPython.core.display.HTML object>"
            ]
          },
          "metadata": {
            "tags": []
          }
        },
        {
          "output_type": "stream",
          "text": [
            "Is Multi-Label? False\n",
            "preprocessing test...\n",
            "language: en\n",
            "test sequence lengths:\n",
            "\tmean : 19\n",
            "\t95percentile : 41\n",
            "\t99percentile : 51\n"
          ],
          "name": "stdout"
        },
        {
          "output_type": "display_data",
          "data": {
            "text/html": [
              ""
            ],
            "text/plain": [
              "<IPython.core.display.HTML object>"
            ]
          },
          "metadata": {
            "tags": []
          }
        },
        {
          "output_type": "display_data",
          "data": {
            "application/vnd.jupyter.widget-view+json": {
              "model_id": "c26c6d81455542f5a42d8f3006866533",
              "version_minor": 0,
              "version_major": 2
            },
            "text/plain": [
              "HBox(children=(FloatProgress(value=0.0, description='Downloading', max=657434796.0, style=ProgressStyle(descri…"
            ]
          },
          "metadata": {
            "tags": []
          }
        },
        {
          "output_type": "stream",
          "text": [
            "\n",
            "\n",
            "\n",
            "begin training using onecycle policy with max lr of 2e-05...\n",
            "Epoch 1/2\n",
            "500/500 [==============================] - 411s 779ms/step - loss: 1.3444 - accuracy: 0.4750 - val_loss: 0.2892 - val_accuracy: 0.8920\n",
            "Epoch 2/2\n",
            "500/500 [==============================] - 394s 779ms/step - loss: 0.2497 - accuracy: 0.9115 - val_loss: 0.1655 - val_accuracy: 0.9275\n"
          ],
          "name": "stdout"
        }
      ]
    },
    {
      "cell_type": "code",
      "metadata": {
        "id": "2ZMazbWAFhy7"
      },
      "source": [
        "###Tokenization\n",
        "aug_padded, test_padded = Tokenizer_Padding(MAX_NUM_WORDS, MAX_LEN, x_aug ,x_test)"
      ],
      "execution_count": 13,
      "outputs": []
    },
    {
      "cell_type": "code",
      "metadata": {
        "colab": {
          "base_uri": "https://localhost:8080/"
        },
        "id": "63z4Jc7021Ka",
        "outputId": "c195b760-1542-4422-8904-a8d4b6beb0c0"
      },
      "source": [
        "###Build DistilMLP\n",
        "model = ModelArch(MAX_NUM_WORDS, MAX_LEN, NUM_CLASS, 'MLP', EMBEDDING_DIM)\n",
        "y_pred_bool, history, saved_model = ModelProcess(aug_padded, test_padded, y_aug_hotvec, EPOCHS, model) \n",
        "print(accuracy_score(y_test, y_pred_bool))\n",
        "print(classification_report(y_test, y_pred_bool))"
      ],
      "execution_count": 25,
      "outputs": [
        {
          "output_type": "stream",
          "text": [
            "Epoch 00056: early stopping\n",
            "32/32 [==============================] - 0s 811us/step\n",
            "0.9225\n",
            "              precision    recall  f1-score   support\n",
            "\n",
            "           0       0.96      0.94      0.95       581\n",
            "           1       0.96      0.93      0.94       695\n",
            "           2       0.78      0.87      0.82       159\n",
            "           3       0.91      0.93      0.92       275\n",
            "           4       0.88      0.92      0.90       224\n",
            "           5       0.82      0.76      0.79        66\n",
            "\n",
            "    accuracy                           0.92      2000\n",
            "   macro avg       0.88      0.89      0.89      2000\n",
            "weighted avg       0.92      0.92      0.92      2000\n",
            "\n"
          ],
          "name": "stdout"
        }
      ]
    },
    {
      "cell_type": "code",
      "metadata": {
        "colab": {
          "base_uri": "https://localhost:8080/"
        },
        "id": "RP0jalnSJsI_",
        "outputId": "e575e1e8-4703-446b-dda2-4253d7c4108c"
      },
      "source": [
        "### Bonus - Distillation with sklearn's MLP Regression (TfIdf based)\n",
        "from sklearn.neural_network import MLPRegressor\n",
        "model = make_pipeline(TfidfVectorizer(ngram_range=(1,1), max_features=5000), MLPRegressor(random_state=1, early_stopping=True,hidden_layer_sizes=(16))).fit(x_aug, y_aug_hotvec)\n",
        "predicted = model.predict(x_test)\n",
        "y_pred_bool = np.argmax(predicted, axis=1)\n",
        "print(accuracy_score(y_test, y_pred_bool))\n",
        "print(classification_report(y_test, y_pred_bool))"
      ],
      "execution_count": null,
      "outputs": [
        {
          "output_type": "stream",
          "text": [
            "0.9225\n",
            "0.8979764367039851\n",
            "              precision    recall  f1-score   support\n",
            "\n",
            "           0       0.96      0.95      0.96       581\n",
            "           1       0.95      0.93      0.94       695\n",
            "           2       0.78      0.87      0.82       159\n",
            "           3       0.91      0.92      0.91       275\n",
            "           4       0.87      0.93      0.90       224\n",
            "           5       0.87      0.71      0.78        66\n",
            "\n",
            "    accuracy                           0.92      2000\n",
            "   macro avg       0.89      0.88      0.89      2000\n",
            "weighted avg       0.92      0.92      0.92      2000\n",
            "\n"
          ],
          "name": "stdout"
        }
      ]
    }
  ]
}