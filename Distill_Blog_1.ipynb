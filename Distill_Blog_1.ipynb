{
  "nbformat": 4,
  "nbformat_minor": 0,
  "metadata": {
    "accelerator": "GPU",
    "colab": {
      "name": "Distill Blog #1.ipynb",
      "provenance": [],
      "collapsed_sections": [],
      "authorship_tag": "ABX9TyMAHxtKvZTrWj0LD72fquhX",
      "include_colab_link": true
    },
    "kernelspec": {
      "display_name": "Python 3",
      "name": "python3"
    },
    "language_info": {
      "name": "python"
    }
  },
  "cells": [
    {
      "cell_type": "markdown",
      "metadata": {
        "id": "view-in-github",
        "colab_type": "text"
      },
      "source": [
        "<a href=\"https://colab.research.google.com/github/MosheWasserb/BestPracticeTextClassificationDistillation/blob/main/Distill_Blog_1.ipynb\" target=\"_parent\"><img src=\"https://colab.research.google.com/assets/colab-badge.svg\" alt=\"Open In Colab\"/></a>"
      ]
    },
    {
      "cell_type": "markdown",
      "metadata": {
        "id": "aATd_K3bFGps"
      },
      "source": [
        "## Init"
      ]
    },
    {
      "cell_type": "code",
      "metadata": {
        "id": "KANQ9jKWFXmf"
      },
      "source": [
        "# All the following code lines should be un-masked to allow\n",
        "#traininng transformers (with ktrain+HuggingFace) and/or generating pseudo labels \n",
        "\n",
        "#!pip install ktrain\n",
        "#import ktrain\n",
        "#from ktrain import text\n",
        "\n",
        "#def ModelTransformer(model_name, categories,max_len, epochs, batch_size):\n",
        "\n",
        "#  t = text.Transformer(model_name, maxlen=max_len, class_names=categories)   \n",
        "#  trn = t.preprocess_train(x_train, y_train)\n",
        "#  val = t.preprocess_test(x_test, y_test)\n",
        "#  model = t.get_classifier()\n",
        "#  learner = ktrain.get_learner(model, train_data=trn, val_data=val, batch_size=batch_size) \n",
        "#  learner.fit_onecycle(2e-5, epochs)\n",
        "#  return(learner, t)"
      ],
      "execution_count": null,
      "outputs": []
    },
    {
      "cell_type": "code",
      "metadata": {
        "colab": {
          "base_uri": "https://localhost:8080/"
        },
        "id": "xqPEbL58fGsN",
        "outputId": "40add360-f675-4e93-ee9a-b7818ce9b5bc"
      },
      "source": [
        "!nvidia-smi"
      ],
      "execution_count": 49,
      "outputs": [
        {
          "output_type": "stream",
          "text": [
            "NVIDIA-SMI has failed because it couldn't communicate with the NVIDIA driver. Make sure that the latest NVIDIA driver is installed and running.\n",
            "\n"
          ],
          "name": "stdout"
        }
      ]
    },
    {
      "cell_type": "code",
      "metadata": {
        "colab": {
          "base_uri": "https://localhost:8080/"
        },
        "id": "wRGoAvODFh8q",
        "outputId": "5a7cb7a6-3960-4644-9950-0b63a7a1f50e"
      },
      "source": [
        "### read data from your Google Drive\n",
        "from google.colab import drive\n",
        "drive.mount('/gdrive')"
      ],
      "execution_count": null,
      "outputs": [
        {
          "output_type": "stream",
          "text": [
            "Mounted at /gdrive\n"
          ],
          "name": "stdout"
        }
      ]
    },
    {
      "cell_type": "code",
      "metadata": {
        "id": "pGyItnhUcBra"
      },
      "source": [
        "import pandas as pd\n",
        "import numpy as np\n",
        "\n",
        "from sklearn.pipeline import make_pipeline\n",
        "from sklearn.feature_extraction.text import TfidfVectorizer\n",
        "from sklearn.linear_model import LogisticRegression\n",
        "\n",
        "from keras.preprocessing.text import Tokenizer\n",
        "from keras.preprocessing.sequence import pad_sequences\n",
        "from keras.layers import Embedding, GlobalAveragePooling1D, Dense, Input, Conv1D, MaxPooling1D, Dropout\n",
        "from keras.models import Sequential, Model, load_model\n",
        "from keras.callbacks import EarlyStopping, ModelCheckpoint\n",
        "from sklearn.metrics import accuracy_score,classification_report\n",
        "from matplotlib import pyplot as plt\n",
        "import tensorflow as tf\n",
        "\n",
        "import pickle\n",
        "def convert_to_pickle(item, directory):\n",
        "    pickle.dump(item, open(directory,\"wb\"))\n",
        "def load_from_pickle(directory):\n",
        "    return pickle.load(open(directory,\"rb\"))\n",
        "\n",
        "import random\n",
        "import torch\n",
        "\n",
        "def set_seed(seed):\n",
        "  random.seed(seed)\n",
        "  np.random.seed(seed)\n",
        "  tf.random.set_seed(seed)\n",
        "\n",
        "seed(42)"
      ],
      "execution_count": null,
      "outputs": []
    },
    {
      "cell_type": "code",
      "metadata": {
        "id": "vuPVL1-bZ95-"
      },
      "source": [
        "def Tokenizer_Padding(max_num_words,maxlen, X_train,X_test): \n",
        "\n",
        "  oov_token = '<UNK>' # Required only if test is not given \n",
        "  pad_type = 'post'\n",
        "  trunc_type = 'post'\n",
        "\n",
        "# Tokenize our training data\n",
        "  tokenizer = Tokenizer(num_words=max_num_words, oov_token = '<UNK>')\n",
        "  tokenizer.fit_on_texts(X_train)\n",
        "\n",
        "# Encode training data sentences into sequences\n",
        "  train_sequences = tokenizer.texts_to_sequences(X_train)\n",
        "\n",
        "# Pad the training sequences\n",
        "  train_padded = pad_sequences(train_sequences, padding=pad_type, truncating=trunc_type, maxlen=maxlen)\n",
        "\n",
        "# Encode test data sentences into sequences and padding\n",
        "  test_sequences = tokenizer.texts_to_sequences(X_test)\n",
        "  test_padded = pad_sequences(test_sequences, padding=pad_type, truncating=trunc_type, maxlen=maxlen)\n",
        "\n",
        "  return(train_padded, test_padded)"
      ],
      "execution_count": null,
      "outputs": []
    },
    {
      "cell_type": "code",
      "metadata": {
        "id": "t4rdd1g8nZQU"
      },
      "source": [
        "def ModelArch(max_num_words, max_len, num_class, model_type, embedding_dim):\n",
        "\n",
        "  if model_type=='CBOW':\n",
        "    model = Sequential()\n",
        "    model.add(Embedding(input_dim=max_num_words, output_dim=embedding_dim, input_length=max_len,trainable=True))\n",
        "    model.add(GlobalAveragePooling1D())\n",
        "    model.add(Dense(embedding_dim, activation='relu'))\n",
        "    model.add(Dense(num_class, activation='softmax')) \n",
        " \n",
        "  model.compile(optimizer='adam', loss='KLD',metrics=['accuracy'])\n",
        "\n",
        "  return(model)"
      ],
      "execution_count": null,
      "outputs": []
    },
    {
      "cell_type": "code",
      "metadata": {
        "id": "xFeMw6BHrg18"
      },
      "source": [
        "def ModelProcess(train_padded,test_padded, y_train_hotvec,epochs,model):\n",
        "\n",
        "  callbacks_list = [\n",
        "    ModelCheckpoint(\n",
        "        filepath='best_model.h5',\n",
        "        monitor='val_accuracy', mode='max', save_best_only=True, verbose=0),\n",
        "    EarlyStopping(monitor='val_loss', mode='min', verbose=1, patience=10)]\n",
        "\n",
        "  history = model.fit(\n",
        "    train_padded,\n",
        "    y_train_hotvec,  \n",
        "    epochs=epochs,\n",
        "    batch_size=512,\n",
        "    validation_split=0.1,\n",
        "    shuffle=True,\n",
        "    verbose=0,\n",
        "    callbacks=callbacks_list)\n",
        "  \n",
        "  saved_model = load_model('best_model.h5')\n",
        "  logits_pred = saved_model.predict(test_padded, batch_size=64, verbose=1)\n",
        "  y_pred_bool = np.argmax(logits_pred, axis=1)\n",
        "\n",
        "\n",
        "  return(y_pred_bool, history, saved_model)"
      ],
      "execution_count": null,
      "outputs": []
    },
    {
      "cell_type": "markdown",
      "metadata": {
        "id": "jauacqoT3AfT"
      },
      "source": [
        "# Blog 1/3"
      ]
    },
    {
      "cell_type": "markdown",
      "metadata": {
        "id": "LRqPNwPekdpF"
      },
      "source": [
        "Load emotion dataset from HuggingFace"
      ]
    },
    {
      "cell_type": "code",
      "metadata": {
        "id": "V_daxNdPkkjT"
      },
      "source": [
        "!pip install datasets\n",
        "from datasets import load_dataset\n",
        "emotion_dataset = load_dataset('emotion')\n",
        "\n",
        "train_df = pd.DataFrame(list(zip(emotion_dataset['train']['text'], emotion_dataset['train']['label'])), \n",
        "               columns =['text', 'label'])\n",
        "\n",
        "test_df = pd.DataFrame(list(zip(emotion_dataset['test']['text'], emotion_dataset['test']['label'])), \n",
        "               columns =['text', 'label'])\n",
        "\n",
        "x_train = train_df.text.values\n",
        "y_train = train_df.label.values\n",
        "\n",
        "x_test =  test_df.text.values\n",
        "y_test = test_df.label.values\n",
        "\n",
        "\n",
        "value2hot = {\n",
        "  0: [1,0,0,0,0,0],\n",
        "  1: [0,1,0,0,0,0],\n",
        "  2: [0,0,1,0,0,0],\n",
        "  3: [0,0,0,1,0,0],\n",
        "  4: [0,0,0,0,1,0],\n",
        "  5: [0,0,0,0,0,1]\n",
        "}\n",
        "\n",
        "y_train_hotvec = np.array([value2hot[l] for l in y_train])"
      ],
      "execution_count": null,
      "outputs": []
    },
    {
      "cell_type": "markdown",
      "metadata": {
        "id": "faeIjqd_3cqA"
      },
      "source": [
        "1st  step: Set a baseline using MLP and logistic regression model (TfIdf based)"
      ]
    },
    {
      "cell_type": "code",
      "metadata": {
        "colab": {
          "base_uri": "https://localhost:8080/"
        },
        "id": "4xdJXqC2jGRJ",
        "outputId": "bbc5d41c-4e77-4ce9-fdc5-f8903a1dcc45"
      },
      "source": [
        "# sklearn's MLP (TfIdf based)\n",
        "from sklearn.neural_network import MLPClassifier, MLPRegressor\n",
        "model = make_pipeline(TfidfVectorizer(ngram_range=(1,1)), MLPClassifier(random_state=1,early_stopping=True,hidden_layer_sizes=(16))).fit(x_train, y_train)\n",
        "predicted = model.predict(x_test)\n",
        "print(accuracy_score(y_test, predicted))\n",
        "print(classification_report(y_test, predicted))"
      ],
      "execution_count": null,
      "outputs": [
        {
          "output_type": "stream",
          "text": [
            "0.861\n",
            "              precision    recall  f1-score   support\n",
            "\n",
            "           0       0.89      0.92      0.90       581\n",
            "           1       0.85      0.93      0.89       695\n",
            "           2       0.81      0.66      0.73       159\n",
            "           3       0.87      0.85      0.86       275\n",
            "           4       0.84      0.75      0.80       224\n",
            "           5       0.80      0.56      0.66        66\n",
            "\n",
            "    accuracy                           0.86      2000\n",
            "   macro avg       0.84      0.78      0.81      2000\n",
            "weighted avg       0.86      0.86      0.86      2000\n",
            "\n"
          ],
          "name": "stdout"
        }
      ]
    },
    {
      "cell_type": "code",
      "metadata": {
        "colab": {
          "base_uri": "https://localhost:8080/"
        },
        "id": "u3W4BNt73iFR",
        "outputId": "953953b6-3978-4c6c-bc6d-6896a2c1e88d"
      },
      "source": [
        "# sklear's' Logistic (TfIdf based)\n",
        "model = make_pipeline(TfidfVectorizer(ngram_range=(1,1)), LogisticRegression(max_iter=200)).fit(x_train, y_train)\n",
        "predicted = model.predict(x_test)\n",
        "print(accuracy_score(y_test, predicted))\n",
        "print(classification_report(y_test, predicted))"
      ],
      "execution_count": null,
      "outputs": [
        {
          "output_type": "stream",
          "text": [
            "0.861\n",
            "0.8145907734621154\n",
            "              precision    recall  f1-score   support\n",
            "\n",
            "           0       0.89      0.93      0.91       581\n",
            "           1       0.83      0.96      0.89       695\n",
            "           2       0.82      0.58      0.68       159\n",
            "           3       0.90      0.81      0.85       275\n",
            "           4       0.87      0.78      0.82       224\n",
            "           5       0.84      0.47      0.60        66\n",
            "\n",
            "    accuracy                           0.86      2000\n",
            "   macro avg       0.86      0.75      0.79      2000\n",
            "weighted avg       0.86      0.86      0.86      2000\n",
            "\n"
          ],
          "name": "stdout"
        }
      ]
    },
    {
      "cell_type": "markdown",
      "metadata": {
        "id": "N95ANIJV6xr2"
      },
      "source": [
        "2nd step: Deep Learning baseline"
      ]
    },
    {
      "cell_type": "code",
      "metadata": {
        "id": "XfFFUDHKETzX"
      },
      "source": [
        "NUM_CLASS = 6\n",
        "MAX_NUM_WORDS = 5000\n",
        "MAX_LEN = 64 \n",
        "EPOCHS = 100\n",
        "EMBEDDING_DIM=16"
      ],
      "execution_count": null,
      "outputs": []
    },
    {
      "cell_type": "code",
      "metadata": {
        "id": "3ooCm0uKbOUe"
      },
      "source": [
        "#Tokenization\n",
        "train_padded, test_padded = Tokenizer_Padding(MAX_NUM_WORDS, MAX_LEN, x_train,x_test)"
      ],
      "execution_count": null,
      "outputs": []
    },
    {
      "cell_type": "code",
      "metadata": {
        "id": "VFPPQVVG_27Q"
      },
      "source": [
        "model = ModelArch(MAX_NUM_WORDS, MAX_LEN, NUM_CLASS, 'CBOW', EMBEDDING_DIM)\n",
        "y_pred_bool, history, saved_model = ModelProcess(train_padded,test_padded, y_train_hotvec,EPOCHS,model)\n",
        "print(accuracy_score(y_test, y_pred_bool))\n",
        "print(classification_report(y_test, y_pred_bool))"
      ],
      "execution_count": null,
      "outputs": []
    },
    {
      "cell_type": "code",
      "metadata": {
        "colab": {
          "base_uri": "https://localhost:8080/",
          "height": 295
        },
        "id": "DDoDWllYNKiE",
        "outputId": "a71321fe-5aee-4074-b7be-7f8936cf7025"
      },
      "source": [
        "# Plot the training and validation accuracu and loss at each epoch\n",
        "loss = history.history['loss']\n",
        "val_loss = history.history['val_loss']\n",
        "epochs = range(1, len(loss) + 1)\n",
        "plt.plot(epochs, loss, 'y', label='Training loss')\n",
        "plt.plot(epochs, val_loss, 'r', label='Validation loss')\n",
        "plt.title('Training and validation loss')\n",
        "plt.xlabel('Epochs')\n",
        "plt.ylabel('Loss')\n",
        "plt.legend()\n",
        "plt.show()"
      ],
      "execution_count": null,
      "outputs": [
        {
          "output_type": "display_data",
          "data": {
            "image/png": "[encoded data removed]",
            "text/plain": [
              "<Figure size 432x288 with 1 Axes>"
            ]
          },
          "metadata": {
            "tags": []
          }
        }
      ]
    },
    {
      "cell_type": "code",
      "metadata": {
        "colab": {
          "base_uri": "https://localhost:8080/",
          "height": 295
        },
        "id": "z0J9TYb0NMZ9",
        "outputId": "059fda43-5e64-40b0-9004-bc78d6327773"
      },
      "source": [
        "acc = history.history['accuracy']\n",
        "val_acc = history.history['val_accuracy']\n",
        "plt.plot(epochs, acc, 'y', label='Training acc')\n",
        "plt.plot(epochs, val_acc, 'r', label='Validation acc')\n",
        "plt.title('Training and validation accuracy')\n",
        "plt.xlabel('Epochs')\n",
        "plt.ylabel('Accuracy')\n",
        "plt.legend()\n",
        "plt.show()"
      ],
      "execution_count": null,
      "outputs": [
        {
          "output_type": "display_data",
          "data": {
            "image/png": "[encoded data removed]",
            "text/plain": [
              "<Figure size 432x288 with 1 Axes>"
            ]
          },
          "metadata": {
            "tags": []
          }
        }
      ]
    },
    {
      "cell_type": "markdown",
      "metadata": {
        "id": "XaokxRyv624r"
      },
      "source": [
        "3rd step: Transformers models "
      ]
    },
    {
      "cell_type": "code",
      "metadata": {
        "id": "Ncl8sqnT8fWr"
      },
      "source": [
        "#Un-masked the follwoing code line to allow transformer trainning \n",
        "#learner, t = ModelTransformer(model_name = 'bert-base-uncased', categories=['0','1','2','3','4','5'],max_len=64, epochs=2, batch_size=32)     # maxlen: emotion = 64"
      ],
      "execution_count": null,
      "outputs": []
    },
    {
      "cell_type": "markdown",
      "metadata": {
        "id": "rMSvAvVD-ryq"
      },
      "source": [
        "4th step: DistillBERT"
      ]
    },
    {
      "cell_type": "code",
      "metadata": {
        "id": "BJe5UtDr0Mpb"
      },
      "source": [
        "#Un-masked the follwoing code line to allow transformer trainning \n",
        "#learner, t = ModelTransformer('distilbert-base-uncased', categories=['0','1','2','3','4','5'],max_len=64, epochs=2, batch_size=32)     # maxlen: emotion = 64"
      ],
      "execution_count": null,
      "outputs": []
    },
    {
      "cell_type": "markdown",
      "metadata": {
        "id": "6FOEFPF2-9j2"
      },
      "source": [
        "5th: Distill Roberta to a simpler student\n"
      ]
    },
    {
      "cell_type": "code",
      "metadata": {
        "colab": {
          "base_uri": "https://localhost:8080/"
        },
        "id": "94FAuapMx8uA",
        "outputId": "b32134f9-d66f-488a-8d16-64cc7e0160e9"
      },
      "source": [
        "#Load all Emotion's dataset (only the text sentences)\n",
        "!wget https://www.dropbox.com/s/607ptdakxuh5i4s/merged_training.pkl\n",
        "\n",
        "aug_df = load_from_pickle(directory=\"merged_training.pkl\")\n",
        "x_aug = aug_df.text.values"
      ],
      "execution_count": null,
      "outputs": [
        {
          "output_type": "stream",
          "text": [
            "--2021-04-27 11:43:34--  https://www.dropbox.com/s/607ptdakxuh5i4s/merged_training.pkl\n",
            "Resolving www.dropbox.com (www.dropbox.com)... 162.125.80.18, 2620:100:6032:18::a27d:5212\n",
            "Connecting to www.dropbox.com (www.dropbox.com)|162.125.80.18|:443... connected.\n",
            "HTTP request sent, awaiting response... 301 Moved Permanently\n",
            "Location: /s/raw/607ptdakxuh5i4s/merged_training.pkl [following]\n",
            "--2021-04-27 11:43:35--  https://www.dropbox.com/s/raw/607ptdakxuh5i4s/merged_training.pkl\n",
            "Reusing existing connection to www.dropbox.com:443.\n",
            "HTTP request sent, awaiting response... 302 Found\n",
            "Location: https://uc3b8cdf7bda47a0e0d53be2827b.dl.dropboxusercontent.com/cd/0/inline/BNZamyxy5kmut2RFXXkgnmzblai-KnQgYCVUp9ZexDVCdQM7C3K3TCdlqbF1SmDnV5tG4V1guytI9caccnkHaorcjAI0lSMLLBWQmabsvfiQZQd7nCcamKMV2vVSvtqNqCloD6YO9fssHXo1VpfeRxSo/file# [following]\n",
            "--2021-04-27 11:43:35--  https://uc3b8cdf7bda47a0e0d53be2827b.dl.dropboxusercontent.com/cd/0/inline/BNZamyxy5kmut2RFXXkgnmzblai-KnQgYCVUp9ZexDVCdQM7C3K3TCdlqbF1SmDnV5tG4V1guytI9caccnkHaorcjAI0lSMLLBWQmabsvfiQZQd7nCcamKMV2vVSvtqNqCloD6YO9fssHXo1VpfeRxSo/file\n",
            "Resolving uc3b8cdf7bda47a0e0d53be2827b.dl.dropboxusercontent.com (uc3b8cdf7bda47a0e0d53be2827b.dl.dropboxusercontent.com)... 162.125.82.15, 2620:100:6032:15::a27d:520f\n",
            "Connecting to uc3b8cdf7bda47a0e0d53be2827b.dl.dropboxusercontent.com (uc3b8cdf7bda47a0e0d53be2827b.dl.dropboxusercontent.com)|162.125.82.15|:443... connected.\n",
            "HTTP request sent, awaiting response... 302 Found\n",
            "Location: /cd/0/inline2/BNbcxKiNn6otDUyeDxHYTmv_knPeBTJqKNUC2cYyRM4Tvk4-8rO7FN9P3VhpIffLv9z9__vtZTskRWV4eFDSp0CdHscsQAVPA47r8R83s0ps-jCX56GST0gm948dyfLN01B8RBiefY4RfsIctLPGFnw5IIgey4dSdfMmG-DbOHFcKv0mbKJe69c_J9_o0W9CHyQelWQRBy0a6eQhM0aInx26ln4CDTirumRIOEc3wv1Ryr6odH_N_AGTvC7XCFVWBWp4eky0ky09d7ZeiSMZsdMx4q8A_c9JYYHf8-zwVmOuQqbXkzbNjoslfy2QUjuFSlR4HG962Wbd6TW7VLr_lSX64KPZkC-dTtmeCv4UOqz01Qwkvg_a4CcAyeI84IPBhPw/file [following]\n",
            "--2021-04-27 11:43:36--  https://uc3b8cdf7bda47a0e0d53be2827b.dl.dropboxusercontent.com/cd/0/inline2/BNbcxKiNn6otDUyeDxHYTmv_knPeBTJqKNUC2cYyRM4Tvk4-8rO7FN9P3VhpIffLv9z9__vtZTskRWV4eFDSp0CdHscsQAVPA47r8R83s0ps-jCX56GST0gm948dyfLN01B8RBiefY4RfsIctLPGFnw5IIgey4dSdfMmG-DbOHFcKv0mbKJe69c_J9_o0W9CHyQelWQRBy0a6eQhM0aInx26ln4CDTirumRIOEc3wv1Ryr6odH_N_AGTvC7XCFVWBWp4eky0ky09d7ZeiSMZsdMx4q8A_c9JYYHf8-zwVmOuQqbXkzbNjoslfy2QUjuFSlR4HG962Wbd6TW7VLr_lSX64KPZkC-dTtmeCv4UOqz01Qwkvg_a4CcAyeI84IPBhPw/file\n",
            "Reusing existing connection to uc3b8cdf7bda47a0e0d53be2827b.dl.dropboxusercontent.com:443.\n",
            "HTTP request sent, awaiting response... 200 OK\n",
            "Length: 49991846 (48M) [application/octet-stream]\n",
            "Saving to: ‘merged_training.pkl’\n",
            "\n",
            "merged_training.pkl 100%[===================>]  47.68M  14.1MB/s    in 3.6s    \n",
            "\n",
            "2021-04-27 11:43:40 (13.3 MB/s) - ‘merged_training.pkl’ saved [49991846/49991846]\n",
            "\n"
          ],
          "name": "stdout"
        }
      ]
    },
    {
      "cell_type": "markdown",
      "metadata": {
        "id": "B6oWf1L4TsSA"
      },
      "source": [
        "Fine-tune RoBERRa and Regenerate x_aug's pseudo labeled data "
      ]
    },
    {
      "cell_type": "code",
      "metadata": {
        "id": "o8Yq2uH5BhYp"
      },
      "source": [
        "#Option A: Download the pseudo labels of x_aug directly from my GitHub \n",
        "y_aug_hotvec = load_from_pickle(\"/gdrive/My Drive/Blogs/DistillBlog/Emotion/Emotion_Acc9270_y_aug_hotvec.pkl\")\n",
        "\n",
        "#Option B: Un-masked the following code lines to regenerate x_aug's pseudo labels \n",
        "### Please note this process takes a while so make sure to reconfigurate your HW resource properly ###\n",
        "#Trainning Roberta\n",
        "#learner, t = ModelTransformer('roberta-base', categories=['0','1','2','3','4','5'],max_len=64, epochs=2, batch_size=32)     # maxlen: emotion = 64\n",
        "#ReGenerate the pseudo labels with Robeera \n",
        "#predictor = ktrain.get_predictor(learner.model, t, batch_size=512)\n",
        "#y_aug_hotvec = predictor.predict_proba(x_aug)"
      ],
      "execution_count": null,
      "outputs": []
    },
    {
      "cell_type": "code",
      "metadata": {
        "id": "2ZMazbWAFhy7"
      },
      "source": [
        "#Tokenization\n",
        "aug_padded, test_padded = Tokenizer_Padding(MAX_NUM_WORDS, MAX_LEN, x_aug ,x_test)"
      ],
      "execution_count": null,
      "outputs": []
    },
    {
      "cell_type": "code",
      "metadata": {
        "id": "63z4Jc7021Ka"
      },
      "source": [
        "import time \n",
        "start = time.time()\n",
        "acc_list = [] \n",
        "for i in range(5):\n",
        "  model = ModelArch(MAX_NUM_WORDS, MAX_LEN, NUM_CLASS, 'CBOW', EMBEDDING_DIM)\n",
        "  y_pred_bool, history, saved_model = ModelProcess(aug_padded, test_padded, y_aug_hotvec, EPOCHS, model) \n",
        "  acc_list.append(accuracy_score(y_test, y_pred_bool))\n",
        "  print(accuracy_score(y_test, y_pred_bool))\n",
        "\n",
        "print(np.average(acc_list))\n",
        "\n",
        "end = time.time()\n",
        "print(end - start)"
      ],
      "execution_count": null,
      "outputs": []
    },
    {
      "cell_type": "code",
      "metadata": {
        "colab": {
          "base_uri": "https://localhost:8080/"
        },
        "id": "RP0jalnSJsI_",
        "outputId": "e575e1e8-4703-446b-dda2-4253d7c4108c"
      },
      "source": [
        "# Bonus - Distillation with sklearn's MLP Regression (TfIdf based)\n",
        "from sklearn.neural_network import MLPRegressor\n",
        "model = make_pipeline(TfidfVectorizer(ngram_range=(1,1), max_features=5000), MLPRegressor(random_state=1, early_stopping=True,hidden_layer_sizes=(16))).fit(x_aug, y_aug_hotvec)\n",
        "predicted = model.predict(x_test)\n",
        "y_pred_bool = np.argmax(predicted, axis=1)\n",
        "print(accuracy_score(y_test, y_pred_bool))\n",
        "print(classification_report(y_test, y_pred_bool))"
      ],
      "execution_count": null,
      "outputs": [
        {
          "output_type": "stream",
          "text": [
            "0.9225\n",
            "0.8979764367039851\n",
            "              precision    recall  f1-score   support\n",
            "\n",
            "           0       0.96      0.95      0.96       581\n",
            "           1       0.95      0.93      0.94       695\n",
            "           2       0.78      0.87      0.82       159\n",
            "           3       0.91      0.92      0.91       275\n",
            "           4       0.87      0.93      0.90       224\n",
            "           5       0.87      0.71      0.78        66\n",
            "\n",
            "    accuracy                           0.92      2000\n",
            "   macro avg       0.89      0.88      0.89      2000\n",
            "weighted avg       0.92      0.92      0.92      2000\n",
            "\n"
          ],
          "name": "stdout"
        }
      ]
    }
  ]
}